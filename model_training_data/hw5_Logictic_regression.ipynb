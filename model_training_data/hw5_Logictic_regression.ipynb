{
  "nbformat": 4,
  "nbformat_minor": 0,
  "metadata": {
    "colab": {
      "name": "Linear_regression_2022_4_12_pickle (2).ipynb",
      "provenance": []
    },
    "kernelspec": {
      "name": "python3",
      "display_name": "Python 3"
    },
    "language_info": {
      "name": "python"
    }
  },
  "cells": [
    {
      "cell_type": "markdown",
      "metadata": {
        "id": "i_yVVNxxiguo"
      },
      "source": [
        "# Topic : Lecture 9 Linear regression\n",
        "<img src=\"https://www.tribloom.com/wp-content/uploads/2019/08/CRISP-DM_Process_Diagram-768x769.png\" height=300>\n",
        "\n",
        "Follow the CRSIP-DM method\n",
        "1. Step 1: Import library, import data\n",
        "2. Step 2: Pre-processing (missing data, categorical type, normalization, format transform)\n",
        "3. Step 3: Build ML Model\n",
        "4. Step 4: Evaluate Model\n",
        "5. Step 5: Deploy (Prediction)\n"
      ]
    },
    {
      "cell_type": "markdown",
      "metadata": {
        "id": "2GCRWZkZjN9l"
      },
      "source": [
        "## Step 1: Load data (also import library)"
      ]
    },
    {
      "cell_type": "code",
      "metadata": {
        "colab": {
          "base_uri": "https://localhost:8080/"
        },
        "id": "etxMQrAGewis",
        "outputId": "eee40df1-d635-4b93-a98e-116029b34b79"
      },
      "source": [
        "# import library\n",
        "import numpy as np\n",
        "import pandas as pd\n",
        "import matplotlib.pyplot as plt\n",
        "\n",
        "#import data\n",
        "data=pd.read_csv(\"training.csv\")\n",
        "data2=pd.read_csv(\"training600.csv\")\n",
        "print(type(data))\n",
        "print(data.head()) # show first 5 items\n",
        "print(type(data2))\n",
        "print(data2.head())"
      ],
      "execution_count": 2,
      "outputs": [
        {
          "output_type": "stream",
          "name": "stdout",
          "text": [
            "<class 'pandas.core.frame.DataFrame'>\n",
            "   value  status\n",
            "0    682       1\n",
            "1    390       1\n",
            "2    649       1\n",
            "3    509       1\n",
            "4    522       1\n",
            "<class 'pandas.core.frame.DataFrame'>\n",
            "   value  status\n",
            "0    682       1\n",
            "1    390       0\n",
            "2    649       1\n",
            "3    509       0\n",
            "4    522       0\n"
          ]
        }
      ]
    },
    {
      "cell_type": "markdown",
      "metadata": {
        "id": "IZeClHb-jUhh"
      },
      "source": [
        "# Step 2: Pre-process X, Y\n",
        "* format transform (轉換成numpy format)\n",
        "* missing data (imputation)差補\n",
        "* category data transform \n",
        "* data augmentation\n",
        "* normalization\n"
      ]
    },
    {
      "cell_type": "code",
      "metadata": {
        "colab": {
          "base_uri": "https://localhost:8080/"
        },
        "id": "uFbekwkvjSv7",
        "outputId": "60a7584d-ec4f-4637-ee93-71ff609e0afe"
      },
      "source": [
        "# training.csv\n",
        "X=data.iloc[:,:-1]\n",
        "Y=data.iloc[:,-1]\n",
        "print(X.columns)\n",
        "\n",
        "X=X.values.reshape(-1,1)\n",
        "Y=Y.values.reshape(-1,1)\n",
        "\n",
        "print(type(X),X.shape)\n",
        "print(type(Y),Y.shape)\n",
        "\n",
        "# training600.csv\n",
        "X2=data2.iloc[:,:-1]\n",
        "Y2=data2.iloc[:,-1]\n",
        "print(X2.columns)\n",
        "\n",
        "X2=X2.values.reshape(-1,1)\n",
        "Y2=Y2.values.reshape(-1,1)\n",
        "\n",
        "print(type(X2),X2.shape)\n",
        "print(type(Y2),Y2.shape)"
      ],
      "execution_count": 11,
      "outputs": [
        {
          "output_type": "stream",
          "name": "stdout",
          "text": [
            "Index(['value'], dtype='object')\n",
            "<class 'numpy.ndarray'> (58, 1)\n",
            "<class 'numpy.ndarray'> (58, 1)\n",
            "Index(['value'], dtype='object')\n",
            "<class 'numpy.ndarray'> (58, 1)\n",
            "<class 'numpy.ndarray'> (58, 1)\n"
          ]
        }
      ]
    },
    {
      "cell_type": "markdown",
      "metadata": {
        "id": "9QPyEdSBjayd"
      },
      "source": [
        "# Step 3: Build Model for training"
      ]
    },
    {
      "cell_type": "code",
      "metadata": {
        "colab": {
          "base_uri": "https://localhost:8080/"
        },
        "id": "LerAPU8FoPqI",
        "outputId": "e3506123-d9e8-4c8a-8564-24b60158638d"
      },
      "source": [
        "from sklearn.linear_model import LogisticRegression as LR\n",
        "model=LR()  # constructor\n",
        "model.fit(X,Y) # training\n",
        "model.fit(X2,Y2)\n",
        "\n",
        "print(model) \n"
      ],
      "execution_count": 12,
      "outputs": [
        {
          "output_type": "stream",
          "name": "stdout",
          "text": [
            "LogisticRegression()\n"
          ]
        },
        {
          "output_type": "stream",
          "name": "stderr",
          "text": [
            "/usr/local/lib/python3.7/dist-packages/sklearn/utils/validation.py:993: DataConversionWarning: A column-vector y was passed when a 1d array was expected. Please change the shape of y to (n_samples, ), for example using ravel().\n",
            "  y = column_or_1d(y, warn=True)\n",
            "/usr/local/lib/python3.7/dist-packages/sklearn/utils/validation.py:993: DataConversionWarning: A column-vector y was passed when a 1d array was expected. Please change the shape of y to (n_samples, ), for example using ravel().\n",
            "  y = column_or_1d(y, warn=True)\n"
          ]
        }
      ]
    },
    {
      "cell_type": "markdown",
      "metadata": {
        "id": "k9iQ2Zoljhv3"
      },
      "source": [
        "# Step 4: Evalute Model( w/ classcification report )\n",
        "hw5 沒用到這步！\n"
      ]
    },
    {
      "cell_type": "code",
      "metadata": {
        "colab": {
          "base_uri": "https://localhost:8080/"
        },
        "id": "cUp3s-j9podg",
        "outputId": "a29f9fba-c70c-469e-bca8-14c5d942b272"
      },
      "source": [
        "from sklearn.metrics import confusion_matrix\n",
        "\n",
        "yPre=model.predict(X)\n",
        "test2=model.predict(test1)\n",
        "\n",
        "print(test2)\n",
        "\n",
        "print(\"confusion matrix=\")\n",
        "print(confusion_matrix(Y, yPre))\n",
        "\n",
        "from sklearn.metrics import accuracy_score\n",
        "print(\"accuracy=\",accuracy_score(Y, yPre))\n",
        "\n",
        "from sklearn.metrics import classification_report\n",
        "target_names = ['fail', 'pass']\n",
        "print(classification_report(Y, yPre, target_names=target_names))"
      ],
      "execution_count": null,
      "outputs": [
        {
          "output_type": "stream",
          "name": "stdout",
          "text": [
            "[0 0 0 0 0 1 0 1 0 0 1 0 0 0 0 0 0 0 0 0 0 1 0 0 1 0 0 0 1 1 1 0 0 0 1 1 0\n",
            " 0 0 0 1 0 0 0 0 0 0 0 1 0 0 0 0 1 0 0 1 0 1 0 0 1 0 0 0 1 1 0 0 0 1 0 0 1\n",
            " 0 0 1 0 0 0 0 1 0 0 0 0 0 0 0 1 0 0 0 1 0 0 1 0 0 1 0 0 0 0 0 0 0 1 1 1 0\n",
            " 0 0 1 0 0 0 1 0 0 0 1 0 0 0 0 0 0 0 0 0 0 1 0 0 0 0 0 0 0 0 0 1 0 0 1 1 0\n",
            " 0 0 0 0 0 0 0 0 0 0 1 0 1 0 0 0 0 1 0 0 0 0 1 0 0 0 1 0 0 1 0 0 0 0 0 1 0\n",
            " 0 0 0 0 0 1 1 0 0 0 0 0 0 0 1 0 0 0 0 0 1 1 1]\n",
            "confusion matrix=\n",
            "[[126  12]\n",
            " [ 13  57]]\n",
            "accuracy= 0.8798076923076923\n",
            "              precision    recall  f1-score   support\n",
            "\n",
            "        fail       0.91      0.91      0.91       138\n",
            "        pass       0.83      0.81      0.82        70\n",
            "\n",
            "    accuracy                           0.88       208\n",
            "   macro avg       0.87      0.86      0.86       208\n",
            "weighted avg       0.88      0.88      0.88       208\n",
            "\n"
          ]
        }
      ]
    },
    {
      "cell_type": "markdown",
      "metadata": {
        "id": "Y4EWHwjBjlA_"
      },
      "source": [
        "# Step 5: Save model and load model with pickle & predict value with loaded model  "
      ]
    },
    {
      "cell_type": "code",
      "source": [
        "# save model\n",
        "import pickle\n",
        "import gzip\n",
        "filename='model2.pgz'\n",
        "# pickle.dump(model, open(filename, 'wb'))\n",
        "# with open('./model/model.pickle', 'wb') as f:\n",
        "#      pickle.dump(model, f)\n",
        "\n",
        "with gzip.GzipFile(filename, 'w') as f:\n",
        "    pickle.dump(model, f)\n",
        "\n",
        "# load model\n",
        "# loaded_model = pickle.load(open(filename, 'rb'))\n",
        "\n",
        "# yPre=loaded_model.predict(X)\n",
        "# test3=loaded_model.predict(test1)\n",
        "\n",
        "# print(test3)\n",
        "\n",
        "# print(\"confusion matrix=\")\n",
        "# print(confusion_matrix(Y, yPre))\n",
        "\n",
        "# from sklearn.metrics import accuracy_score\n",
        "# print(\"accuracy=\",accuracy_score(Y, yPre))\n",
        "\n",
        "# from sklearn.metrics import classification_report\n",
        "# target_names = ['fail', 'pass']\n",
        "# print(classification_report(Y, yPre, target_names=target_names))"
      ],
      "metadata": {
        "id": "TsF2TxGNEEwg"
      },
      "execution_count": 13,
      "outputs": []
    }
  ]
}